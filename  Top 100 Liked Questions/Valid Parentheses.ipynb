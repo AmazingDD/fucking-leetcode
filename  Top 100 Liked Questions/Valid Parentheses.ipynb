{
 "cells": [
  {
   "cell_type": "code",
   "execution_count": null,
   "source": [
    "class Solution(object):\n",
    "    def isValid(self, s):\n",
    "        \"\"\"\n",
    "        :type s: str\n",
    "        :rtype: bool\n",
    "        \"\"\"\n",
    "        ref = {\n",
    "            '(': ')',\n",
    "            '[': ']',\n",
    "            '{': '}'\n",
    "        }\n",
    "        buf = []\n",
    "        for p in s:\n",
    "            if p in ref.keys():\n",
    "                # 左侧符号，需要入栈\n",
    "                buf.append(p)\n",
    "            elif p in ref.values():\n",
    "                # 右侧符号，且当前栈内不为空才能进行出栈\n",
    "                if len(buf) == 0 or ref[buf.pop()] != p:\n",
    "                    return False\n",
    "            else:\n",
    "                return False\n",
    "                  \n",
    "        # 确保最后栈内为空，代表完全匹配\n",
    "        return len(buf) == 0"
   ],
   "outputs": [],
   "metadata": {}
  },
  {
   "cell_type": "markdown",
   "source": [
    "Given a string s containing just the characters '(', ')', '{', '}', '[' and ']', determine if the input string is valid.\n",
    "\n",
    "An input string is valid if:\n",
    "\n",
    "Open brackets must be closed by the same type of brackets.\n",
    "\n",
    "Open brackets must be closed in the correct order."
   ],
   "metadata": {}
  },
  {
   "cell_type": "markdown",
   "source": [
    "这题不难，主要是要意识到要用stack，然后python的list有pop函数可以模拟出栈，append函数模拟入栈"
   ],
   "metadata": {}
  }
 ],
 "metadata": {
  "orig_nbformat": 4,
  "language_info": {
   "name": "python"
  }
 },
 "nbformat": 4,
 "nbformat_minor": 2
}