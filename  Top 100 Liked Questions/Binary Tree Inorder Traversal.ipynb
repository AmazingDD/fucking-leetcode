{
 "cells": [
  {
   "cell_type": "markdown",
   "source": [
    "Given the `root` of a binary tree, return the inorder traversal of its nodes' values.\n",
    "\n",
    "Example 1:\n",
    "\n",
    "```\n",
    "Input: root = [1,null,2,3]\n",
    "Output: [1,3,2]\n",
    "```\n",
    "\n",
    "Example 2:\n",
    "```\n",
    "Input: root = []\n",
    "Output: []\n",
    "```\n",
    "\n",
    "Example 3:\n",
    "```\n",
    "Input: root = [1]\n",
    "Output: [1]\n",
    "```\n",
    "\n",
    "Example 4:\n",
    "```\n",
    "Input: root = [1,2]\n",
    "Output: [2,1]\n",
    "```\n",
    "\n",
    "Example 5:\n",
    "```\n",
    "Input: root = [1,null,2]\n",
    "Output: [1,2]\n",
    "```\n",
    "Constraints:\n",
    "\n",
    "The number of nodes in the tree is in the range [0, 100].\n",
    "-100 <= Node.val <= 100\n",
    " \n",
    "\n",
    "Follow up: Recursive solution is trivial, could you do it iteratively?"
   ],
   "metadata": {}
  },
  {
   "cell_type": "code",
   "execution_count": null,
   "source": [
    "# Definition for a binary tree node.\n",
    "# class TreeNode(object):\n",
    "#     def __init__(self, val=0, left=None, right=None):\n",
    "#         self.val = val\n",
    "#         self.left = left\n",
    "#         self.right = right\n",
    "class Solution(object):\n",
    "    def inorderTraversal(self, root):\n",
    "        \"\"\"\n",
    "        :type root: TreeNode\n",
    "        :rtype: List[int]\n",
    "        \"\"\"\n",
    "        stack = [(root, False)]\n",
    "        res = []\n",
    "        while stack:\n",
    "            cur, flag = stack.pop()\n",
    "            if not cur:\n",
    "                continue\n",
    "            if not flag: # not retrieve before\n",
    "                stack.append((cur.right, False))\n",
    "                stack.append((cur, True))\n",
    "                stack.append((cur.left, False))\n",
    "            else:\n",
    "                res.append(cur.val)\n",
    "        \n",
    "        return res"
   ],
   "outputs": [],
   "metadata": {}
  },
  {
   "cell_type": "markdown",
   "source": [
    "中序遍历，依次返回 left child-parent-right child\n",
    "所以right child要最后访问，要先入栈"
   ],
   "metadata": {}
  },
  {
   "cell_type": "markdown",
   "source": [],
   "metadata": {}
  }
 ],
 "metadata": {
  "orig_nbformat": 4,
  "language_info": {
   "name": "python"
  }
 },
 "nbformat": 4,
 "nbformat_minor": 2
}