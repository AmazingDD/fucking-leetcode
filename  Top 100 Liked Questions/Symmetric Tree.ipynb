{
 "cells": [
  {
   "cell_type": "markdown",
   "source": [
    "Given the `root` of a binary tree, check whether it is a mirror of itself (i.e., symmetric around its center).\n",
    "\n",
    "Example 1:\n",
    "\n",
    "```\n",
    "Input: root = [1,2,2,3,4,4,3]\n",
    "Output: true\n",
    "```\n",
    "Example 2:\n",
    "\n",
    "```\n",
    "Input: root = [1,2,2,null,3,null,3]\n",
    "Output: false\n",
    "```\n",
    "\n",
    "Constraints:\n",
    "\n",
    "The number of nodes in the tree is in the range [1, 1000].\n",
    "-100 <= Node.val <= 100\n",
    " \n",
    "\n",
    "Follow up: Could you solve it both recursively and iteratively?\n"
   ],
   "metadata": {}
  },
  {
   "cell_type": "markdown",
   "source": [
    "递归版本，检查左右子树是否镜像"
   ],
   "metadata": {}
  },
  {
   "cell_type": "code",
   "execution_count": null,
   "source": [
    "# Definition for a binary tree node.\n",
    "# class TreeNode(object):\n",
    "#     def __init__(self, val=0, left=None, right=None):\n",
    "#         self.val = val\n",
    "#         self.left = left\n",
    "#         self.right = right\n",
    "class Solution(object):\n",
    "    def isSymmetric(self, root):\n",
    "        \"\"\"\n",
    "        :type root: TreeNode\n",
    "        :rtype: bool\n",
    "        \"\"\"\n",
    "        return self.isSame(root.left, root.right)\n",
    "        \n",
    "    def isSame(self, left, right):\n",
    "        if left is None or right is None:\n",
    "            return left == right\n",
    "        elif left.val != right.val:\n",
    "            return False\n",
    "        else:\n",
    "            return self.isSame(left.left, right.right) and self.isSame(left.right, right.left)"
   ],
   "outputs": [],
   "metadata": {}
  },
  {
   "cell_type": "markdown",
   "source": [
    "迭代版本"
   ],
   "metadata": {}
  },
  {
   "cell_type": "code",
   "execution_count": null,
   "source": [
    "# Definition for a binary tree node.\n",
    "# class TreeNode(object):\n",
    "#     def __init__(self, val=0, left=None, right=None):\n",
    "#         self.val = val\n",
    "#         self.left = left\n",
    "#         self.right = right\n",
    "class Solution(object):\n",
    "    def isSymmetric(self, root):\n",
    "        \"\"\"\n",
    "        :type root: TreeNode\n",
    "        :rtype: bool\n",
    "        \"\"\"\n",
    "        queue = [(root.left, root.right)]\n",
    "        while queue:\n",
    "            l, r = queue.pop(0)\n",
    "            if not l and not r: # 左右都为空，对称\n",
    "                continue\n",
    "            if (not l or not r )or (l.val != r.val):\n",
    "                return False\n",
    "            queue.append((l.left, r.right))\n",
    "            queue.append((l.right, r.left))\n",
    "\n",
    "        return True"
   ],
   "outputs": [],
   "metadata": {}
  }
 ],
 "metadata": {
  "orig_nbformat": 4,
  "language_info": {
   "name": "python",
   "version": "3.8.5",
   "mimetype": "text/x-python",
   "codemirror_mode": {
    "name": "ipython",
    "version": 3
   },
   "pygments_lexer": "ipython3",
   "nbconvert_exporter": "python",
   "file_extension": ".py"
  },
  "kernelspec": {
   "name": "python3",
   "display_name": "Python 3.8.5 64-bit ('base': conda)"
  },
  "interpreter": {
   "hash": "b2c198349ed1329218f50cc23c521a3eeac43e1939af429a64f95d49d51da2ec"
  }
 },
 "nbformat": 4,
 "nbformat_minor": 2
}