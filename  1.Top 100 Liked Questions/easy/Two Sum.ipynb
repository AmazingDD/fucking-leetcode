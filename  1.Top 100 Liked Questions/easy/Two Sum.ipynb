{
 "cells": [
  {
   "cell_type": "markdown",
   "source": [
    "Given an array of integers nums and an integer target, return indices of the two numbers such that they add up to target.\n",
    "\n",
    "You may assume that each input would have exactly one solution, and you may not use the same element twice.\n",
    "\n",
    "You can return the answer in any order.\n",
    "\n",
    "Example 1:\n",
    "\n",
    "```\n",
    "Input: nums = [2,7,11,15], target = 9\n",
    "Output: [0,1]\n",
    "Output: Because nums[0] + nums[1] == 9, we return [0, 1].\n",
    "```\n",
    "\n",
    "Example 2:\n",
    "\n",
    "```\n",
    "Input: nums = [3,2,4], target = 6\n",
    "Output: [1,2]\n",
    "```\n",
    "\n",
    "Example 3:\n",
    "\n",
    "```\n",
    "Input: nums = [3,3], target = 6\n",
    "Output: [0,1]\n",
    "```\n",
    "\n",
    "Constraints:\n",
    "\n",
    "2 <= nums.length <= 104\n",
    "-109 <= nums[i] <= 109\n",
    "-109 <= target <= 109\n",
    "Only one valid answer exists.\n",
    " \n",
    "\n",
    "Follow-up: Can you come up with an algorithm that is less than $O(n^2)$ time complexity?"
   ],
   "metadata": {}
  },
  {
   "cell_type": "markdown",
   "source": [
    "直接遍历复杂度肯定是n的平方，思路在于只有一组解，所以我们可以在第一次遍历的时候声明一个buffer，存取已经遍历的value和对应的index\n",
    "这样在继续遍历后面的value的时候我们可以计算当前value需要哪个value来去凑target，然后直接查buffer即可返回结果，并且题目不要求返回顺序"
   ],
   "metadata": {}
  },
  {
   "cell_type": "code",
   "execution_count": null,
   "source": [
    "class Solution(object):\n",
    "    def twoSum(self, nums, target):\n",
    "        \"\"\"\n",
    "        :type nums: List[int]\n",
    "        :type target: int\n",
    "        :rtype: List[int]\n",
    "        \"\"\"\n",
    "        buffer = {}\n",
    "        for idx in range(len(nums)):\n",
    "            p = target - nums[idx]\n",
    "            if p in buffer.keys():\n",
    "                return [idx, buffer[p]]\n",
    "            else:\n",
    "                buffer[nums[idx]] = idx"
   ],
   "outputs": [],
   "metadata": {}
  }
 ],
 "metadata": {
  "orig_nbformat": 4,
  "language_info": {
   "name": "python"
  }
 },
 "nbformat": 4,
 "nbformat_minor": 2
}