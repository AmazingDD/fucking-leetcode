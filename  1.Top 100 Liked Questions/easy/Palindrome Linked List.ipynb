{
 "cells": [
  {
   "cell_type": "markdown",
   "source": [
    "Given the head of a singly linked list, return true if it is a palindrome.\n",
    "\n",
    " \n",
    "\n",
    "Example 1:\n",
    "\n",
    "```\n",
    "Input: head = [1,2,2,1]\n",
    "Output: true\n",
    "```\n",
    "\n",
    "Example 2:\n",
    "\n",
    "```\n",
    "Input: head = [1,2]\n",
    "Output: false\n",
    "```\n",
    "\n",
    "Constraints:\n",
    "\n",
    "The number of nodes in the list is in the range [1, 105].\n",
    "\n",
    "0 <= Node.val <= 9\n",
    " \n",
    "\n",
    "Follow up: Could you do it in O(n) time and O(1) space?"
   ],
   "metadata": {}
  },
  {
   "cell_type": "code",
   "execution_count": null,
   "source": [
    "# Definition for singly-linked list.\n",
    "# class ListNode(object):\n",
    "#     def __init__(self, val=0, next=None):\n",
    "#         self.val = val\n",
    "#         self.next = next\n",
    "class Solution(object):\n",
    "    def isPalindrome(self, head):\n",
    "        \"\"\"\n",
    "        :type head: ListNode\n",
    "        :rtype: bool\n",
    "        \"\"\"\n",
    "        rev = None\n",
    "        slow = fast = head\n",
    "        while fast and fast.next:\n",
    "            fast = fast.next.next\n",
    "            rev, rev.next, slow = slow, rev, slow.next\n",
    "            \n",
    "        if fast: # odd linked list\n",
    "            slow = slow.next\n",
    "        while rev:\n",
    "            if rev.val == slow.val:\n",
    "                rev = rev.next\n",
    "                slow = slow.next\n",
    "            else:\n",
    "                return False\n",
    "            \n",
    "        return True\n",
    "            "
   ],
   "outputs": [],
   "metadata": {}
  }
 ],
 "metadata": {
  "orig_nbformat": 4,
  "language_info": {
   "name": "python"
  }
 },
 "nbformat": 4,
 "nbformat_minor": 2
}