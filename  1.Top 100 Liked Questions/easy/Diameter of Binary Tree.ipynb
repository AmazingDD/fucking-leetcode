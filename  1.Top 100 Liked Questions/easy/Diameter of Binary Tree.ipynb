{
 "cells": [
  {
   "cell_type": "markdown",
   "source": [
    "Given the root of a binary tree, return the length of the diameter of the tree.\n",
    "\n",
    "The diameter of a binary tree is the length of the longest path between any two nodes in a tree. This path may or may not pass through the root.\n",
    "\n",
    "The length of a path between two nodes is represented by the number of edges between them.\n",
    "\n",
    " \n",
    "\n",
    "Example 1:\n",
    "\n",
    "```\n",
    "Input: root = [1,2,3,4,5]\n",
    "Output: 3\n",
    "Explanation: 3 is the length of the path [4,2,1,3] or [5,2,1,3].\n",
    "```\n",
    "\n",
    "Example 2:\n",
    "\n",
    "```\n",
    "Input: root = [1,2]\n",
    "Output: 1\n",
    "```\n",
    "\n",
    "Constraints:\n",
    "\n",
    "The number of nodes in the tree is in the range [1, 104].\n",
    "-100 <= Node.val <= 100"
   ],
   "metadata": {}
  },
  {
   "cell_type": "code",
   "execution_count": null,
   "source": [
    "# Definition for a binary tree node.\n",
    "# class TreeNode(object):\n",
    "#     def __init__(self, val=0, left=None, right=None):\n",
    "#         self.val = val\n",
    "#         self.left = left\n",
    "#         self.right = right\n",
    "class Solution(object):\n",
    "    def diameterOfBinaryTree(self, root):\n",
    "        \"\"\"\n",
    "        :type root: TreeNode\n",
    "        :rtype: int\n",
    "        \"\"\"\n",
    "        self.ans = 0\n",
    "    \n",
    "        def max_depth(root):\n",
    "            if not root: return 0\n",
    "            left, right = max_depth(root.left), max_depth(root.right)\n",
    "            # compare current node and the history maximum\n",
    "            self.ans = max(self.ans, left + right) \n",
    "            # path from node to its left/right tree is 1, then plus 1\n",
    "            return 1 + max(left, right)\n",
    "        \n",
    "        max_depth(root)\n",
    "        return self.ans"
   ],
   "outputs": [],
   "metadata": {}
  }
 ],
 "metadata": {
  "orig_nbformat": 4,
  "language_info": {
   "name": "python"
  }
 },
 "nbformat": 4,
 "nbformat_minor": 2
}