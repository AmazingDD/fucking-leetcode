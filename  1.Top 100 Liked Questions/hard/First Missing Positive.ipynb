{
 "cells": [
  {
   "cell_type": "markdown",
   "metadata": {},
   "source": [
    "Given an unsorted integer array nums, return the smallest missing positive integer.\n",
    "\n",
    "You must implement an algorithm that runs in O(n) time and uses constant extra space.\n",
    "\n",
    " \n",
    "Example 1:\n",
    "\n",
    "```\n",
    "Input: nums = [1,2,0]\n",
    "Output: 3\n",
    "```\n",
    "\n",
    "Example 2:\n",
    "\n",
    "```\n",
    "Input: nums = [3,4,-1,1]\n",
    "Output: 2\n",
    "```\n",
    "\n",
    "Example 3:\n",
    "\n",
    "```\n",
    "Input: nums = [7,8,9,11,12]\n",
    "Output: 1\n",
    "```\n",
    "\n",
    "Constraints:\n",
    "\n",
    "1 <= nums.length <= 5 * $10^5$\n",
    "\n",
    "-$2^{31}$ <= nums[i] <= $2^{31}$ - 1"
   ]
  },
  {
   "cell_type": "code",
   "execution_count": null,
   "metadata": {},
   "outputs": [],
   "source": [
    "class Solution:\n",
    "    def firstMissingPositive(self, nums: List[int]) -> int:\n",
    "        # O(n)\n",
    "        for i in range(len(nums)):\n",
    "            while 0 < nums[i] <= len(nums) and nums[nums[i]-1] != nums[i]:\n",
    "                tmp = nums[i] - 1\n",
    "                nums[i], nums[tmp] = nums[tmp], nums[i]\n",
    "        for i in range(len(nums)):\n",
    "            if nums[i] != i+1:\n",
    "                return i + 1\n",
    "        return len(nums) + 1"
   ]
  }
 ],
 "metadata": {
  "language_info": {
   "name": "python"
  },
  "orig_nbformat": 4
 },
 "nbformat": 4,
 "nbformat_minor": 2
}
