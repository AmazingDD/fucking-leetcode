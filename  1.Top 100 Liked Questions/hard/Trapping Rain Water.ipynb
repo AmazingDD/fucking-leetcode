{
 "cells": [
  {
   "cell_type": "markdown",
   "metadata": {},
   "source": [
    "Given n non-negative integers representing an elevation map where the width of each bar is 1, compute how much water it can trap after raining.\n",
    "\n",
    " \n",
    "\n",
    "Example 1:\n",
    "\n",
    "```\n",
    "Input: height = [0,1,0,2,1,0,1,3,2,1,2,1]\n",
    "Output: 6\n",
    "Explanation: The above elevation map (black section) is represented by array [0,1,0,2,1,0,1,3,2,1,2,1]. In this case, 6 units of rain water (blue section) are being trapped.\n",
    "```\n",
    "\n",
    "Example 2:\n",
    "\n",
    "```\n",
    "Input: height = [4,2,0,3,2,5]\n",
    "Output: 9\n",
    "```\n",
    "\n",
    "Constraints:\n",
    "\n",
    "n == height.length\n",
    "\n",
    "1 <= n <= 2 * $10^4$\n",
    "\n",
    "0 <= height[i] <= $10^5$"
   ]
  },
  {
   "cell_type": "code",
   "execution_count": null,
   "metadata": {},
   "outputs": [],
   "source": [
    "class Solution:\n",
    "    def trap(self, height: List[int]) -> int:\n",
    "        waterLevel = []\n",
    "        left = 0\n",
    "        for h in height:\n",
    "            left = max(left, h) \n",
    "            waterLevel += [left] # over-fill it to left max height\n",
    "        right = 0\n",
    "        for i, h in reversed(list(enumerate(height))):\n",
    "            right = max(right, h)\n",
    "            waterLevel[i] = min(waterLevel[i], right) - h # drain to the right height\n",
    "        return sum(waterLevel)"
   ]
  }
 ],
 "metadata": {
  "language_info": {
   "name": "python"
  },
  "orig_nbformat": 4
 },
 "nbformat": 4,
 "nbformat_minor": 2
}
