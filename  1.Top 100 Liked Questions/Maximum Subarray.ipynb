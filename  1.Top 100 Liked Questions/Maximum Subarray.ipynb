{
 "cells": [
  {
   "cell_type": "markdown",
   "source": [
    "Given an integer array `nums`, find the contiguous subarray (containing at least one number) which has the largest sum and return its sum.\n",
    "\n",
    "A **subarray** is a **contiguous** part of an array.\n",
    "\n",
    "Example 1:\n",
    "\n",
    "```\n",
    "Input: nums = [-2,1,-3,4,-1,2,1,-5,4]\n",
    "Output: 6\n",
    "Explanation: [4,-1,2,1] has the largest sum = 6.\n",
    "```\n",
    "\n",
    "Example 2:\n",
    "\n",
    "```\n",
    "Input: nums = [1]\n",
    "Output: 1\n",
    "```\n",
    "\n",
    "\n",
    "Example 3:\n",
    "\n",
    "```\n",
    "Input: nums = [5,4,-1,7,8]\n",
    "Output: 23\n",
    "```\n",
    "\n",
    "Constraints:\n",
    "\n",
    "1 <= nums.length <= 3 * 104\n",
    "-105 <= nums[i] <= 105"
   ],
   "metadata": {}
  },
  {
   "cell_type": "code",
   "execution_count": null,
   "source": [
    "class Solution(object):\n",
    "    def maxSubArray(self, nums):\n",
    "        \"\"\"\n",
    "        :type nums: List[int]\n",
    "        :rtype: int\n",
    "        \"\"\"\n",
    "        if len(nums) == 0:\n",
    "            return 0\n",
    "\n",
    "        res = tmp = nums[0]\n",
    "        for i in range(1, len(nums)):\n",
    "            if tmp + nums[i] > nums[i]:\n",
    "                tmp += nums[i]\n",
    "            else:\n",
    "                tmp = nums[i]\n",
    "            res = max(res, tmp)\n",
    "                \n",
    "        return res"
   ],
   "outputs": [],
   "metadata": {}
  },
  {
   "cell_type": "markdown",
   "source": [
    "从0出发，扩大滑窗范围，\n",
    "对于第i个元素是否应该被加进来，若相加后，比上一次结果好，则加\n",
    "若加了以后不如上次结果，则更改窗口起始点（为了保证不丢失之前的最优解，所以要存一下以前的最优解，进行比较）"
   ],
   "metadata": {}
  }
 ],
 "metadata": {
  "orig_nbformat": 4,
  "language_info": {
   "name": "python"
  }
 },
 "nbformat": 4,
 "nbformat_minor": 2
}