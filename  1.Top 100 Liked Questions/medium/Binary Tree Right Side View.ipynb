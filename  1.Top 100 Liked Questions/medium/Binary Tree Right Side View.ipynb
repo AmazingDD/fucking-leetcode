{
 "cells": [
  {
   "cell_type": "markdown",
   "metadata": {},
   "source": [
    "Given the root of a binary tree, imagine yourself standing on the right side of it, return the values of the nodes you can see ordered from top to bottom.\n",
    "\n",
    " \n",
    "\n",
    "Example 1:\n",
    "\n",
    "```\n",
    "Input: root = [1,2,3,null,5,null,4]\n",
    "Output: [1,3,4]\n",
    "```\n",
    "\n",
    "Example 2:\n",
    "\n",
    "```\n",
    "Input: root = [1,null,3]\n",
    "Output: [1,3]\n",
    "```\n",
    "\n",
    "Example 3:\n",
    "\n",
    "```\n",
    "Input: root = []\n",
    "Output: []\n",
    "```\n",
    "\n",
    "Constraints:\n",
    "\n",
    "The number of nodes in the tree is in the range [0, 100].\n",
    "\n",
    "-100 <= Node.val <= 100"
   ]
  },
  {
   "cell_type": "code",
   "execution_count": null,
   "metadata": {},
   "outputs": [],
   "source": [
    "# Definition for a binary tree node.\n",
    "# class TreeNode:\n",
    "#     def __init__(self, val=0, left=None, right=None):\n",
    "#         self.val = val\n",
    "#         self.left = left\n",
    "#         self.right = right\n",
    "from collections import deque\n",
    "\n",
    "class Solution:\n",
    "    def rightSideView(self, root: Optional[TreeNode]) -> List[int]:\n",
    "        if not root:\n",
    "            return None\n",
    "        queue = deque([root])\n",
    "        res = []\n",
    "        while queue:\n",
    "            res.append(queue[-1].val)\n",
    "            for _ in range(len(queue)):\n",
    "                node = queue.popleft()\n",
    "                if node.left:\n",
    "                    queue.append(node.left)\n",
    "                if node.right:\n",
    "                    queue.append(node.right)\n",
    "        \n",
    "        return res"
   ]
  }
 ],
 "metadata": {
  "language_info": {
   "name": "python"
  },
  "orig_nbformat": 4
 },
 "nbformat": 4,
 "nbformat_minor": 2
}
