{
 "cells": [
  {
   "cell_type": "markdown",
   "metadata": {},
   "source": [
    "Given a m x n grid filled with non-negative numbers, find a path from top left to bottom right, which minimizes the sum of all numbers along its path.\n",
    "\n",
    "Note: You can only move either down or right at any point in time.\n",
    "\n",
    " \n",
    "\n",
    "Example 1:\n",
    "\n",
    "```\n",
    "Input: grid = [[1,3,1],[1,5,1],[4,2,1]]\n",
    "Output: 7\n",
    "Explanation: Because the path 1 → 3 → 1 → 1 → 1 minimizes the sum.\n",
    "```\n",
    "\n",
    "Example 2:\n",
    "\n",
    "```\n",
    "Input: grid = [[1,2,3],[4,5,6]]\n",
    "Output: 12\n",
    "``` \n",
    "\n",
    "Constraints:\n",
    "\n",
    "m == grid.length\n",
    "\n",
    "n == grid[i].length\n",
    "\n",
    "1 <= m, n <= 200\n",
    "\n",
    "0 <= grid[i][j] <= 100"
   ]
  },
  {
   "cell_type": "code",
   "execution_count": null,
   "metadata": {},
   "outputs": [],
   "source": [
    "class Solution:\n",
    "    def minPathSum(self, grid: List[List[int]]) -> int:\n",
    "        m, n = len(grid), len(grid[0])\n",
    "        res = grid.copy()\n",
    "        for i in range(1, m):\n",
    "            res[i][0] = grid[i][0] + res[i-1][0]\n",
    "        for j in range(1, n):\n",
    "            res[0][j] = grid[0][j] + res[0][j - 1]\n",
    "        for i in range(1, m):\n",
    "            for j in range(1, n):\n",
    "                res[i][j] = min(res[i-1][j], res[i][j-1]) + grid[i][j]\n",
    "                \n",
    "        return res[m-1][n-1]"
   ]
  }
 ],
 "metadata": {
  "language_info": {
   "name": "python"
  },
  "orig_nbformat": 4
 },
 "nbformat": 4,
 "nbformat_minor": 2
}
