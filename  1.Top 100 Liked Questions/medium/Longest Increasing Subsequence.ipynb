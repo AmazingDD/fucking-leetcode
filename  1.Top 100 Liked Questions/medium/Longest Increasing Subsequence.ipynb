{
 "cells": [
  {
   "cell_type": "markdown",
   "metadata": {},
   "source": [
    "Given an integer array nums, return the length of the longest strictly increasing subsequence.\n",
    "\n",
    "A subsequence is a sequence that can be derived from an array by deleting some or no elements without changing the order of the remaining elements. For example, [3,6,2,7] is a subsequence of the array [0,3,1,6,2,2,7].\n",
    "\n",
    " \n",
    "\n",
    "Example 1:\n",
    "\n",
    "```\n",
    "Input: nums = [10,9,2,5,3,7,101,18]\n",
    "Output: 4\n",
    "Explanation: The longest increasing subsequence is [2,3,7,101], therefore the length is 4.\n",
    "```\n",
    "\n",
    "Example 2:\n",
    "\n",
    "```\n",
    "Input: nums = [0,1,0,3,2,3]\n",
    "Output: 4\n",
    "```\n",
    "\n",
    "Example 3:\n",
    "\n",
    "```\n",
    "Input: nums = [7,7,7,7,7,7,7]\n",
    "Output: 1\n",
    "```\n",
    "\n",
    "Constraints:\n",
    "\n",
    "1 <= nums.length <= 2500\n",
    "\n",
    "-$10^4$ <= nums[i] <= $10^4$\n",
    " \n",
    "\n",
    "Follow up: Can you come up with an algorithm that runs in O(n log(n)) time complexity?"
   ]
  },
  {
   "cell_type": "code",
   "execution_count": null,
   "metadata": {},
   "outputs": [],
   "source": [
    "class Solution:\n",
    "    def lengthOfLIS(self, nums: List[int]) -> int:\n",
    "        sub = []\n",
    "        for num in nums:\n",
    "            pos = self.bs(sub, num)\n",
    "            # num larger than any nums in sub, means append is OK\n",
    "            if pos == len(sub):\n",
    "                sub.append(num)\n",
    "            # sub[i-1] < num <= sub[i], update sub[i] with num\n",
    "            # can maintain sub invariant\n",
    "            else:\n",
    "                sub[pos] = num\n",
    "        return len(sub)\n",
    "    \n",
    "    # binary search position O(log N) to accelerate\n",
    "    def bs(self, sub, val):\n",
    "        l, r = 0, len(sub) - 1\n",
    "        while l <= r:\n",
    "            mid = (l + r) // 2\n",
    "            if sub[mid] < val:\n",
    "                l = mid + 1\n",
    "            elif sub[mid] > val:\n",
    "                r = mid - 1\n",
    "            else:\n",
    "                return mid\n",
    "        return l\n",
    "                "
   ]
  }
 ],
 "metadata": {
  "language_info": {
   "name": "python"
  },
  "orig_nbformat": 4
 },
 "nbformat": 4,
 "nbformat_minor": 2
}
