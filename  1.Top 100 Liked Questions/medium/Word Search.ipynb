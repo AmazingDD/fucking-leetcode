{
 "cells": [
  {
   "cell_type": "markdown",
   "metadata": {},
   "source": [
    "Given an m x n grid of characters board and a string word, return true if word exists in the grid.\n",
    "\n",
    "The word can be constructed from letters of sequentially adjacent cells, where adjacent cells are horizontally or vertically neighboring. The same letter cell may not be used more than once.\n",
    "\n",
    " \n",
    "\n",
    "Example 1:\n",
    "\n",
    "```\n",
    "Input: board = [[\"A\",\"B\",\"C\",\"E\"],[\"S\",\"F\",\"C\",\"S\"],[\"A\",\"D\",\"E\",\"E\"]], word = \"ABCCED\"\n",
    "Output: true\n",
    "```\n",
    "\n",
    "Example 2:\n",
    "\n",
    "```\n",
    "Input: board = [[\"A\",\"B\",\"C\",\"E\"],[\"S\",\"F\",\"C\",\"S\"],[\"A\",\"D\",\"E\",\"E\"]], word = \"SEE\"\n",
    "Output: true\n",
    "```\n",
    "\n",
    "Example 3:\n",
    "\n",
    "```\n",
    "Input: board = [[\"A\",\"B\",\"C\",\"E\"],[\"S\",\"F\",\"C\",\"S\"],[\"A\",\"D\",\"E\",\"E\"]], word = \"ABCB\"\n",
    "Output: false\n",
    "```\n",
    "\n",
    "Constraints:\n",
    "\n",
    "m == board.length\n",
    "\n",
    "n = board[i].length\n",
    "\n",
    "1 <= m, n <= 6\n",
    "\n",
    "1 <= word.length <= 15\n",
    "\n",
    "board and word consists of only lowercase and uppercase English letters."
   ]
  },
  {
   "cell_type": "code",
   "execution_count": null,
   "metadata": {},
   "outputs": [],
   "source": [
    "class Solution:\n",
    "    def exist(self, board: List[List[str]], word: str) -> bool:\n",
    "        for i in range(len(board)):\n",
    "            for j in range(len(board[0])):\n",
    "                if self.dfs(board, word, i, j):\n",
    "                    return True\n",
    "        return False\n",
    "    \n",
    "    def dfs(self, board, word, i, j):\n",
    "        # no word to search,it's done\n",
    "        if len(word) == 0: return True\n",
    "        # search out of nound\n",
    "        if i < 0 or j < 0 or i >= len(board) or j >= len(board[0]):\n",
    "            return False\n",
    "        # cannot search\n",
    "        if board[i][j] != word[0]:\n",
    "            return False\n",
    "        start = board[i][j]\n",
    "        board[i][j] = '#'\n",
    "        up = self.dfs(board, word[1:], i - 1, j)\n",
    "        left = self.dfs(board, word[1:], i, j - 1)\n",
    "        right = self.dfs(board, word[1:], i, j + 1)\n",
    "        down = self.dfs(board, word[1:], i + 1, j)\n",
    "        \n",
    "        res = up or left or right or down\n",
    "        board[i][j] = start\n",
    "        \n",
    "        return res"
   ]
  },
  {
   "cell_type": "markdown",
   "metadata": {},
   "source": [
    "use dfs"
   ]
  },
  {
   "cell_type": "markdown",
   "metadata": {},
   "source": []
  }
 ],
 "metadata": {
  "language_info": {
   "name": "python"
  },
  "orig_nbformat": 4
 },
 "nbformat": 4,
 "nbformat_minor": 2
}
