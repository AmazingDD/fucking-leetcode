{
 "cells": [
  {
   "cell_type": "markdown",
   "metadata": {},
   "source": [
    "Given an integer n, return the number of structurally unique BST's (binary search trees) which has exactly n nodes of unique values from 1 to n.\n",
    "\n",
    " \n",
    "\n",
    "Example 1:\n",
    "\n",
    "```\n",
    "Input: n = 3\n",
    "Output: 5\n",
    "```\n",
    "\n",
    "Example 2:\n",
    "\n",
    "```\n",
    "Input: n = 1\n",
    "Output: 1\n",
    "```\n",
    "\n",
    "Constraints:\n",
    "\n",
    "1 <= n <= 19"
   ]
  },
  {
   "cell_type": "markdown",
   "metadata": {},
   "source": [
    "G(n): the number of unique BST for a sequence of length n.\n",
    "\n",
    "F(i, n), 1 <= i <= n: the number of unique BST, where the number i is the root of BST, and the sequence ranges from 1 to n.\n",
    "\n",
    "G(n) = F(1, n) + F(2, n) + ... + F(n, n). \n",
    "\n",
    "G(0)=1, G(1)=1. \n",
    "\n",
    "F(i, n) = G(i-1) * G(n-i)\t1 <= i <= n \n",
    "\n",
    "G(n) = G(0) * G(n-1) + G(1) * G(n-2) + … + G(n-1) * G(0) \n"
   ]
  },
  {
   "cell_type": "code",
   "execution_count": null,
   "metadata": {},
   "outputs": [],
   "source": [
    "class Solution:\n",
    "    def numTrees(self, n: int) -> int:\n",
    "        res = [0] * (n+1)\n",
    "        res[0] = 1\n",
    "        for i in range(1, n + 1):\n",
    "            for j in range(i):\n",
    "                res[i] += res[j] * res[i-1-j]\n",
    "        return res[n]"
   ]
  },
  {
   "cell_type": "markdown",
   "metadata": {},
   "source": [
    "Catalan Number  (2n)!/((n+1)!*n!)  也行，但我不认为这应该掌握"
   ]
  },
  {
   "cell_type": "markdown",
   "metadata": {},
   "source": []
  }
 ],
 "metadata": {
  "language_info": {
   "name": "python"
  },
  "orig_nbformat": 4
 },
 "nbformat": 4,
 "nbformat_minor": 2
}
