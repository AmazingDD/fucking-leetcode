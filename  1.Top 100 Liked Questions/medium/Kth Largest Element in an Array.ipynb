{
 "cells": [
  {
   "cell_type": "markdown",
   "metadata": {},
   "source": [
    "Given an integer array nums and an integer k, return the kth largest element in the array.\n",
    "\n",
    "Note that it is the kth largest element in the sorted order, not the kth distinct element.\n",
    "\n",
    " \n",
    "\n",
    "Example 1:\n",
    "\n",
    "```\n",
    "Input: nums = [3,2,1,5,6,4], k = 2\n",
    "Output: 5\n",
    "```\n",
    "\n",
    "Example 2:\n",
    "\n",
    "```\n",
    "Input: nums = [3,2,3,1,2,4,5,5,6], k = 4\n",
    "Output: 4\n",
    "``` \n",
    "\n",
    "Constraints:\n",
    "\n",
    "1 <= k <= nums.length <= $10^4$\n",
    "\n",
    "-$10^4$<= nums[i] <= $10^4$"
   ]
  },
  {
   "cell_type": "code",
   "execution_count": null,
   "metadata": {},
   "outputs": [],
   "source": [
    "import random\n",
    "\n",
    "class Solution:\n",
    "    # quik selection, similar to quiksort\n",
    "    def findKthLargest(self, nums: List[int], k: int) -> int:\n",
    "        if not nums: return \n",
    "        # maybe you can choose first/last as pivot, it also worked\n",
    "        # random choose will improve the probability of correct answer\n",
    "        pivot = random.choice(nums)\n",
    "        # pivot = nums[0]\n",
    "        left = [x for x in nums if x > pivot]\n",
    "        mid = [x for x in nums if x == pivot]\n",
    "        right = [x for x in nums if x < pivot]\n",
    "        \n",
    "        L, M = len(left), len(mid)\n",
    "        # if kth in the left list, just find it in left\n",
    "        if k <= L:\n",
    "            return self.findKthLargest(left, k)\n",
    "        # if kth can not find in the numbers smaller than or equal to pivot\n",
    "        # need to find it in right\n",
    "        elif k > L + M:\n",
    "            return self.findKthLargest(right, k - L - M)\n",
    "        # it means the pivot is the one we want\n",
    "        else:\n",
    "            return pivot"
   ]
  }
 ],
 "metadata": {
  "language_info": {
   "name": "python"
  },
  "orig_nbformat": 4
 },
 "nbformat": 4,
 "nbformat_minor": 2
}
