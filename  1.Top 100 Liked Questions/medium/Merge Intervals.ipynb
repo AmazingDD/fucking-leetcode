{
 "cells": [
  {
   "cell_type": "markdown",
   "metadata": {},
   "source": [
    "Given an array of intervals where intervals[i] = [starti, endi], merge all overlapping intervals, and return an array of the non-overlapping intervals that cover all the intervals in the input.\n",
    "\n",
    " \n",
    "\n",
    "Example 1:\n",
    "\n",
    "```\n",
    "Input: intervals = [[1,3],[2,6],[8,10],[15,18]]\n",
    "Output: [[1,6],[8,10],[15,18]]\n",
    "Explanation: Since intervals [1,3] and [2,6] overlaps, merge them into [1,6].\n",
    "```\n",
    "\n",
    "Example 2:\n",
    "\n",
    "```\n",
    "Input: intervals = [[1,4],[4,5]]\n",
    "Output: [[1,5]]\n",
    "Explanation: Intervals [1,4] and [4,5] are considered overlapping.\n",
    "```\n",
    "\n",
    "Constraints:\n",
    "\n",
    "1 <= intervals.length <= $10^4$\n",
    "\n",
    "intervals[i].length == 2\n",
    "\n",
    "0 <= starti <= endi <= $10^4$"
   ]
  },
  {
   "cell_type": "code",
   "execution_count": null,
   "metadata": {},
   "outputs": [],
   "source": [
    "class Solution(object):\n",
    "    def merge(self, intervals):\n",
    "        \"\"\"\n",
    "        :type intervals: List[List[int]]\n",
    "        :rtype: List[List[int]]\n",
    "        \"\"\"\n",
    "        res = []\n",
    "        intervals = sorted(intervals, key=lambda x: x[0])\n",
    "        for i in range(len(intervals)):\n",
    "            if not res:\n",
    "                res.append(intervals[i])\n",
    "            else:\n",
    "                if res[-1][1] >= intervals[i][0]:\n",
    "                    res[-1][1] = max(res[-1][1],intervals[i][1])\n",
    "                else:\n",
    "                    res.append(intervals[i])\n",
    "        return res\n",
    "            "
   ]
  }
 ],
 "metadata": {
  "language_info": {
   "name": "python"
  },
  "orig_nbformat": 4
 },
 "nbformat": 4,
 "nbformat_minor": 2
}
