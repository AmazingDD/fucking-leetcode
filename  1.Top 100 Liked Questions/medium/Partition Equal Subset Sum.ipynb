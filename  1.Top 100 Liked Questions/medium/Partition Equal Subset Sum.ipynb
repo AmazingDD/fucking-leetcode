{
 "cells": [
  {
   "cell_type": "markdown",
   "metadata": {},
   "source": [
    "Given a non-empty array nums containing only positive integers, find if the array can be partitioned into two subsets such that the sum of elements in both subsets is equal.\n",
    "\n",
    " \n",
    "\n",
    "Example 1:\n",
    "\n",
    "```\n",
    "Input: nums = [1,5,11,5]\n",
    "Output: true\n",
    "Explanation: The array can be partitioned as [1, 5, 5] and [11].\n",
    "```\n",
    "\n",
    "Example 2:\n",
    "\n",
    "```\n",
    "Input: nums = [1,2,3,5]\n",
    "Output: false\n",
    "Explanation: The array cannot be partitioned into equal sum subsets.\n",
    "``` \n",
    "\n",
    "Constraints:\n",
    "\n",
    "1 <= nums.length <= 200\n",
    "\n",
    "1 <= nums[i] <= 100"
   ]
  },
  {
   "cell_type": "code",
   "execution_count": null,
   "metadata": {},
   "outputs": [],
   "source": [
    "class Solution:\n",
    "    def canPartition(self, nums: List[int]) -> bool:\n",
    "        summ = sum(nums)\n",
    "        if summ & 1: # also means summ % 2 != 0\n",
    "            return False\n",
    "        \n",
    "        # summ /= 2\n",
    "        # summ = int(summ)\n",
    "        summ >>= 1\n",
    "        \n",
    "        dp = [False] * (summ + 1)\n",
    "        dp[0] = True  # 0 means nothing to sum, it always true\n",
    "        for num in nums:\n",
    "            for i in range(summ, 0, -1):\n",
    "                if i >= num: # the remain can subtract with num\n",
    "                    # whether i is true depend on i - num is true or itself is already true\n",
    "                    dp[i] = dp[i] or dp[i - num]\n",
    "            \n",
    "        return dp[summ]"
   ]
  }
 ],
 "metadata": {
  "language_info": {
   "name": "python"
  },
  "orig_nbformat": 4
 },
 "nbformat": 4,
 "nbformat_minor": 2
}
