{
 "cells": [
  {
   "cell_type": "markdown",
   "metadata": {},
   "source": [
    "Given an integer n, return the least number of perfect square numbers that sum to n.\n",
    "\n",
    "A perfect square is an integer that is the square of an integer; in other words, it is the product of some integer with itself. For example, 1, 4, 9, and 16 are perfect squares while 3 and 11 are not.\n",
    "\n",
    " \n",
    "\n",
    "Example 1:\n",
    "\n",
    "```\n",
    "Input: n = 12\n",
    "Output: 3\n",
    "Explanation: 12 = 4 + 4 + 4.\n",
    "```\n",
    "\n",
    "Example 2:\n",
    "\n",
    "```\n",
    "Input: n = 13\n",
    "Output: 2\n",
    "Explanation: 13 = 4 + 9.\n",
    "```\n",
    "\n",
    "Constraints:\n",
    "\n",
    "1 <= n <= $10^4$"
   ]
  },
  {
   "cell_type": "code",
   "execution_count": null,
   "metadata": {},
   "outputs": [],
   "source": [
    "class Solution:\n",
    "    def numSquares(self, n: int) -> int:\n",
    "        if n < 2:\n",
    "            return n\n",
    "        i = 1\n",
    "        res = []\n",
    "        # find how many choice can choose\n",
    "        # this will be use in BFS to determin how many branches to generate\n",
    "        while i * i <= n:\n",
    "            res.append(i*i)\n",
    "            i += 1\n",
    "        # in this BFS, target is to find the first appeared 0 in each level\n",
    "        cnt = 0\n",
    "        queue = [n]\n",
    "        while queue:\n",
    "            cnt += 1\n",
    "            new_q = []\n",
    "            for x in queue:\n",
    "                for y in res:\n",
    "                    # find the calue\n",
    "                    if x == y:\n",
    "                        return cnt\n",
    "                    # none of the choice can satisfy current value, it will never go down, and it's promised that choices in res are ascendingly sorted \n",
    "                    elif x < y:\n",
    "                        break\n",
    "                    else:\n",
    "                        new_q.append(x - y)\n",
    "            queue = new_q\n",
    "            \n",
    "        return cnt"
   ]
  }
 ],
 "metadata": {
  "language_info": {
   "name": "python"
  },
  "orig_nbformat": 4
 },
 "nbformat": 4,
 "nbformat_minor": 2
}
