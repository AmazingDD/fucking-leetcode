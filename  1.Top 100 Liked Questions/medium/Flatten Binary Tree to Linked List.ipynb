{
 "cells": [
  {
   "cell_type": "markdown",
   "metadata": {},
   "source": [
    "Given the root of a binary tree, flatten the tree into a \"linked list\":\n",
    "\n",
    "The \"linked list\" should use the same TreeNode class where the right child pointer points to the next node in the list and the left child pointer is always null.\n",
    "\n",
    "The \"linked list\" should be in the same order as a pre-order traversal of the binary tree.\n",
    "\n",
    "Example 1:\n",
    "\n",
    "```\n",
    "Input: root = [1,2,5,3,4,null,6]\n",
    "Output: [1,null,2,null,3,null,4,null,5,null,6]\n",
    "```\n",
    "\n",
    "Example 2:\n",
    "\n",
    "```\n",
    "Input: root = []\n",
    "Output: []\n",
    "```\n",
    "\n",
    "Example 3:\n",
    "\n",
    "```\n",
    "Input: root = [0]\n",
    "Output: [0]\n",
    "```\n",
    "\n",
    "Constraints:\n",
    "\n",
    "The number of nodes in the tree is in the range [0, 2000].\n",
    "\n",
    "-100 <= Node.val <= 100\n",
    "\n",
    "\n"
   ]
  },
  {
   "cell_type": "code",
   "execution_count": null,
   "metadata": {},
   "outputs": [],
   "source": [
    "# Definition for a binary tree node.\n",
    "# class TreeNode:\n",
    "#     def __init__(self, val=0, left=None, right=None):\n",
    "#         self.val = val\n",
    "#         self.left = left\n",
    "#         self.right = right\n",
    "class Solution:\n",
    "    def __init__(self):\n",
    "        self.prev = None\n",
    "    \n",
    "    def flatten(self, root: Optional[TreeNode]) -> None:\n",
    "        \"\"\"\n",
    "        Do not return anything, modify root in-place instead.\n",
    "        \"\"\"\n",
    "        if root is None:\n",
    "            return \n",
    "        self.flatten(root.right)\n",
    "        self.flatten(root.left)\n",
    "        print(root.val)\n",
    "        root.right = self.prev\n",
    "        root.left = None\n",
    "        self.prev = root"
   ]
  },
  {
   "cell_type": "markdown",
   "metadata": {},
   "source": [
    "前序遍历的树结构，如果flatten后，root节点仍要从1出发，所以无论做什么操作都不能破坏原有顺序\n",
    "\n",
    "从上到下"
   ]
  },
  {
   "cell_type": "code",
   "execution_count": null,
   "metadata": {},
   "outputs": [],
   "source": [
    "# Definition for a binary tree node.\n",
    "# class TreeNode:\n",
    "#     def __init__(self, val=0, left=None, right=None):\n",
    "#         self.val = val\n",
    "#         self.left = left\n",
    "#         self.right = right\n",
    "class Solution:    \n",
    "    def flatten(self, root: Optional[TreeNode]) -> None:\n",
    "        \"\"\"\n",
    "        Do not return anything, modify root in-place instead.\n",
    "        \"\"\"\n",
    "        curr = root\n",
    "        \n",
    "        while curr:\n",
    "            if curr.left != None:\n",
    "                p = curr.left # temporarily stored\n",
    "                while p.right != None:\n",
    "                    p = p.right\n",
    "                    \n",
    "                p.right = curr.right\n",
    "                \n",
    "                curr.right = curr.left\n",
    "                curr.left = None\n",
    "            \n",
    "            curr = curr.right"
   ]
  },
  {
   "cell_type": "markdown",
   "metadata": {},
   "source": []
  }
 ],
 "metadata": {
  "language_info": {
   "name": "python"
  },
  "orig_nbformat": 4
 },
 "nbformat": 4,
 "nbformat_minor": 2
}
