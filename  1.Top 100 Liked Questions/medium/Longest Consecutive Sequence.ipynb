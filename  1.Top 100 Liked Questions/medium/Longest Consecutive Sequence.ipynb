{
 "cells": [
  {
   "cell_type": "markdown",
   "metadata": {},
   "source": [
    "Given an unsorted array of integers nums, return the length of the longest consecutive elements sequence.\n",
    "\n",
    "You must write an algorithm that runs in O(n) time.\n",
    "\n",
    " \n",
    "\n",
    "Example 1:\n",
    "\n",
    "```\n",
    "Input: nums = [100,4,200,1,3,2]\n",
    "Output: 4\n",
    "Explanation: The longest consecutive elements sequence is [1, 2, 3, 4]. Therefore its length is 4.\n",
    "```\n",
    "\n",
    "Example 2:\n",
    "\n",
    "```\n",
    "Input: nums = [0,3,7,2,5,8,4,6,0,1]\n",
    "Output: 9\n",
    "```\n",
    "\n",
    "Constraints:\n",
    "\n",
    "0 <= nums.length <= 105\n",
    "\n",
    "-$10^9$ <= nums[i] <= $10^9$"
   ]
  },
  {
   "cell_type": "code",
   "execution_count": null,
   "metadata": {},
   "outputs": [],
   "source": [
    "class Solution:\n",
    "    def longestConsecutive(self, nums: List[int]) -> int:\n",
    "        nums = set(nums)\n",
    "        l = 0\n",
    "        for num in nums:\n",
    "            if num - 1 not in nums:\n",
    "                y = num + 1\n",
    "                while y in nums:\n",
    "                    y += 1\n",
    "\n",
    "                l = max(y - num, l)\n",
    "        return l"
   ]
  }
 ],
 "metadata": {
  "language_info": {
   "name": "python"
  },
  "orig_nbformat": 4
 },
 "nbformat": 4,
 "nbformat_minor": 2
}
