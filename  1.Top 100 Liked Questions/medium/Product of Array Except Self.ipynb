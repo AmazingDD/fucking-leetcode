{
 "cells": [
  {
   "cell_type": "markdown",
   "metadata": {},
   "source": [
    "Given an integer array nums, return an array answer such that answer[i] is equal to the product of all the elements of nums except nums[i].\n",
    "\n",
    "The product of any prefix or suffix of nums is guaranteed to fit in a 32-bit integer.\n",
    "\n",
    "You must write an algorithm that runs in O(n) time and without using the division operation.\n",
    "\n",
    " \n",
    "\n",
    "Example 1:\n",
    "\n",
    "```\n",
    "Input: nums = [1,2,3,4]\n",
    "Output: [24,12,8,6]\n",
    "```\n",
    "\n",
    "Example 2:\n",
    "\n",
    "```\n",
    "Input: nums = [-1,1,0,-3,3]\n",
    "Output: [0,0,9,0,0]\n",
    "```\n",
    "\n",
    "Constraints:\n",
    "\n",
    "2 <= nums.length <= $10^5$\n",
    "\n",
    "-30 <= nums[i] <= 30\n",
    "\n",
    "The product of any prefix or suffix of nums is guaranteed to fit in a 32-bit integer.\n"
   ]
  },
  {
   "cell_type": "code",
   "execution_count": null,
   "metadata": {},
   "outputs": [],
   "source": [
    "class Solution:\n",
    "    def productExceptSelf(self, nums: List[int]) -> List[int]:\n",
    "        res = []\n",
    "        prod = 1\n",
    "        # take [1st,2nd,3rd,4th]\n",
    "        # first loop\n",
    "        # [1, 1*1st, 1*1st*2nd,1*1st*2nd*3rd]\n",
    "        for i in range(len(nums)):\n",
    "            res.append(prod)\n",
    "            prod *= nums[i]\n",
    "        # according to the above res\n",
    "        # res[-1] is already finished, we need res[-2] to multiply nums[-1]\n",
    "        # res[-3] to multiply nums[-1]*nums[-2]\n",
    "        # ...\n",
    "        # so res[-1] could multiply 1 to maintain itself\n",
    "        prod = 1\n",
    "        for i in range(len(nums) - 1, -1, -1):\n",
    "            res[i] *= prod\n",
    "            prod *= nums[i]\n",
    "        \n",
    "        return res"
   ]
  }
 ],
 "metadata": {
  "language_info": {
   "name": "python"
  },
  "orig_nbformat": 4
 },
 "nbformat": 4,
 "nbformat_minor": 2
}
