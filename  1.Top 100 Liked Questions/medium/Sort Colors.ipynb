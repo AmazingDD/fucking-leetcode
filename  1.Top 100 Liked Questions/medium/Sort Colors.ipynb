{
 "cells": [
  {
   "cell_type": "markdown",
   "metadata": {},
   "source": [
    "Given an array nums with n objects colored red, white, or blue, sort them in-place so that objects of the same color are adjacent, with the colors in the order red, white, and blue.\n",
    "\n",
    "We will use the integers 0, 1, and 2 to represent the color red, white, and blue, respectively.\n",
    "\n",
    "You must solve this problem without using the library's sort function.\n",
    "\n",
    " \n",
    "\n",
    "Example 1:\n",
    "\n",
    "```\n",
    "Input: nums = [2,0,2,1,1,0]\n",
    "Output: [0,0,1,1,2,2]\n",
    "```\n",
    "Example 2:\n",
    "\n",
    "```\n",
    "Input: nums = [2,0,1]\n",
    "Output: [0,1,2]\n",
    "```\n",
    "\n",
    "Example 3:\n",
    "\n",
    "```\n",
    "Input: nums = [0]\n",
    "Output: [0]\n",
    "```\n",
    "\n",
    "Example 4:\n",
    "\n",
    "```\n",
    "Input: nums = [1]\n",
    "Output: [1]\n",
    "``` \n",
    "\n",
    "Constraints:\n",
    "\n",
    "n == nums.length\n",
    "\n",
    "1 <= n <= 300\n",
    "\n",
    "nums[i] is 0, 1, or 2.\n",
    " \n",
    "\n",
    "Follow up: Could you come up with a one-pass algorithm using only constant extra space?"
   ]
  },
  {
   "cell_type": "code",
   "execution_count": null,
   "metadata": {},
   "outputs": [],
   "source": [
    "class Solution:\n",
    "    def sortColors(self, nums: List[int]) -> None:\n",
    "        \"\"\"\n",
    "        Do not return anything, modify nums in-place instead.\n",
    "        \"\"\"\n",
    "        r, w, b = 0, 0, len(nums) - 1\n",
    "        while w <= b:\n",
    "            if nums[w] == 0:\n",
    "                nums[r], nums[w] = nums[w], nums[r]\n",
    "                w += 1\n",
    "                r += 1\n",
    "            elif nums[w] == 1:\n",
    "                w += 1\n",
    "            else:\n",
    "                nums[w], nums[b] = nums[b], nums[w]\n",
    "                b -= 1\n",
    "            # print(nums)\n",
    "                \n",
    "        return nums"
   ]
  },
  {
   "cell_type": "markdown",
   "metadata": {},
   "source": [
    "https://en.wikipedia.org/wiki/Dutch_national_flag_problem"
   ]
  },
  {
   "cell_type": "markdown",
   "metadata": {},
   "source": []
  }
 ],
 "metadata": {
  "language_info": {
   "name": "python"
  },
  "orig_nbformat": 4
 },
 "nbformat": 4,
 "nbformat_minor": 2
}
