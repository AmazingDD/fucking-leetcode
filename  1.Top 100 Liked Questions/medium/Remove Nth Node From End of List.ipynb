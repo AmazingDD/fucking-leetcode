{
 "cells": [
  {
   "cell_type": "markdown",
   "metadata": {},
   "source": [
    "Given the head of a linked list, remove the nth node from the end of the list and return its head.\n",
    "\n",
    "Example 1:\n",
    "\n",
    "```\n",
    "Input: head = [1,2,3,4,5], n = 2\n",
    "Output: [1,2,3,5]\n",
    "```\n",
    "\n",
    "Example 2:\n",
    "\n",
    "```\n",
    "Input: head = [1], n = 1\n",
    "Output: []\n",
    "```\n",
    "\n",
    "Example 3:\n",
    "\n",
    "```\n",
    "Input: head = [1,2], n = 1\n",
    "Output: [1]\n",
    "``` \n",
    "\n",
    "Constraints:\n",
    "\n",
    "The number of nodes in the list is sz.\n",
    "\n",
    "1 <= sz <= 30\n",
    "\n",
    "0 <= Node.val <= 100\n",
    "\n",
    "1 <= n <= sz\n",
    " \n",
    "\n",
    "Follow up: Could you do this in one pass?"
   ]
  },
  {
   "cell_type": "code",
   "execution_count": null,
   "metadata": {},
   "outputs": [],
   "source": [
    "# Definition for singly-linked list.\n",
    "# class ListNode(object):\n",
    "#     def __init__(self, val=0, next=None):\n",
    "#         self.val = val\n",
    "#         self.next = next\n",
    "class Solution(object):\n",
    "    def removeNthFromEnd(self, head, n):\n",
    "        \"\"\"\n",
    "        :type head: ListNode\n",
    "        :type n: int\n",
    "        :rtype: ListNode\n",
    "        \"\"\"\n",
    "        slow=fast=head\n",
    "        for _ in range(n):\n",
    "            fast = fast.next\n",
    "            \n",
    "        if not fast:\n",
    "            return head.next\n",
    "        while fast.next:\n",
    "            slow = slow.next\n",
    "            fast = fast.next\n",
    "            \n",
    "        slow.next = slow.next.next\n",
    "        \n",
    "        return head"
   ]
  }
 ],
 "metadata": {
  "language_info": {
   "name": "python"
  },
  "orig_nbformat": 4
 },
 "nbformat": 4,
 "nbformat_minor": 2
}
