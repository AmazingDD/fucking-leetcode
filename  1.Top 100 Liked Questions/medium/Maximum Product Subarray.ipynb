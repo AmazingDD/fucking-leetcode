{
 "cells": [
  {
   "cell_type": "markdown",
   "metadata": {},
   "source": [
    "Given an integer array nums, find a contiguous non-empty subarray within the array that has the largest product, and return the product.\n",
    "\n",
    "It is guaranteed that the answer will fit in a 32-bit integer.\n",
    "\n",
    "A subarray is a contiguous subsequence of the array.\n",
    "\n",
    " \n",
    "\n",
    "Example 1:\n",
    "\n",
    "```\n",
    "Input: nums = [2,3,-2,4]\n",
    "Output: 6\n",
    "Explanation: [2,3] has the largest product 6.\n",
    "```\n",
    "\n",
    "Example 2:\n",
    "\n",
    "```\n",
    "Input: nums = [-2,0,-1]\n",
    "Output: 0\n",
    "Explanation: The result cannot be 2, because [-2,-1] is not a subarray.\n",
    "```\n",
    "\n",
    "Constraints:\n",
    "\n",
    "1 <= nums.length <= 2 * $10^4$\n",
    "\n",
    "-10 <= nums[i] <= 10\n",
    "\n",
    "The product of any prefix or suffix of nums is guaranteed to fit in a 32-bit integer."
   ]
  },
  {
   "cell_type": "code",
   "execution_count": null,
   "metadata": {},
   "outputs": [],
   "source": [
    "class Solution:\n",
    "    def maxProduct(self, nums: List[int]) -> int:\n",
    "        min_prod, max_prod, res = nums[0], nums[0], nums[0]\n",
    "        for i in range(1, len(nums)):\n",
    "            # if last prod is negative and nums[i] is negative, it is possible to be the latgest now\n",
    "            # so we need not only the max produciton but also min production to compare current production\n",
    "            # and the nums[i] to find the new max_prod and min_prod\n",
    "            x = max(nums[i], min_prod*nums[i], max_prod*nums[i])\n",
    "            y = min(nums[i], min_prod*nums[i], max_prod*nums[i])\n",
    "            max_prod, min_prod = x, y\n",
    "            res = max(max_prod, res)\n",
    "            \n",
    "        return res"
   ]
  }
 ],
 "metadata": {
  "language_info": {
   "name": "python"
  },
  "orig_nbformat": 4
 },
 "nbformat": 4,
 "nbformat_minor": 2
}
