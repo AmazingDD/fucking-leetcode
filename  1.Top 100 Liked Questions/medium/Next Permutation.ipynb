{
 "cells": [
  {
   "cell_type": "markdown",
   "metadata": {},
   "source": [
    "Implement next permutation, which rearranges numbers into the lexicographically next greater permutation of numbers.\n",
    "\n",
    "If such an arrangement is not possible, it must rearrange it as the lowest possible order (i.e., sorted in ascending order).\n",
    "\n",
    "The replacement must be in place and use only constant extra memory.\n",
    "\n",
    " \n",
    "\n",
    "Example 1:\n",
    "\n",
    "```\n",
    "Input: nums = [1,2,3]\n",
    "Output: [1,3,2]\n",
    "```\n",
    "\n",
    "Example 2:\n",
    "\n",
    "```\n",
    "Input: nums = [3,2,1]\n",
    "Output: [1,2,3]\n",
    "```\n",
    "\n",
    "Example 3:\n",
    "\n",
    "```\n",
    "Input: nums = [1,1,5]\n",
    "Output: [1,5,1]\n",
    "```\n",
    "\n",
    "Example 4:\n",
    "\n",
    "```\n",
    "Input: nums = [1]\n",
    "Output: [1]\n",
    "``` \n",
    "\n",
    "Constraints:\n",
    "\n",
    "1 <= nums.length <= 100\n",
    "\n",
    "0 <= nums[i] <= 100"
   ]
  },
  {
   "cell_type": "code",
   "execution_count": null,
   "metadata": {},
   "outputs": [],
   "source": [
    "class Solution(object):\n",
    "    def nextPermutation(self, nums):\n",
    "        \"\"\"\n",
    "        :type nums: List[int]\n",
    "        :rtype: None Do not return anything, modify nums in-place instead.\n",
    "        \"\"\"\n",
    "        if len(nums) < 2:\n",
    "            return nums\n",
    "        \n",
    "        i = j = len(nums) - 1\n",
    "        # find the first previous that not larger than its next\n",
    "        while i > 0 and nums[i - 1] >= nums[i]:\n",
    "            i -= 1\n",
    "            \n",
    "        if i == 0: # descending order, return to the first permetation\n",
    "            return nums.reverse()\n",
    "        \n",
    "        k = i - 1\n",
    "        while nums[j] <= nums[k]: # find if the seond part from i is descending order\n",
    "            j -= 1\n",
    "        nums[j], nums[k] = nums[k], nums[j] # the larger will be the start of the next permutation\n",
    "        l, r = k + 1, len(nums) - 1\n",
    "        while l < r: # reverse second part to get the next permutation\n",
    "            nums[l], nums[r] = nums[r], nums[l]\n",
    "            l +=1\n",
    "            r -= 1\n",
    "        \n",
    "        return nums\n",
    "        "
   ]
  },
  {
   "cell_type": "markdown",
   "metadata": {},
   "source": [
    "这题目可以考虑成进位问题，由于我们需要找一个比当前排列大的下一个排列，所以从右往左成对的去\n",
    "\n",
    "第一个左数比右数小的位置一定是起始点，将左数的位置与最右数交换，代表进位，\n",
    "\n",
    "接下来只需要保证从交换点往右保持升序即可\n",
    "\n"
   ]
  },
  {
   "cell_type": "markdown",
   "metadata": {},
   "source": []
  }
 ],
 "metadata": {
  "language_info": {
   "name": "python"
  },
  "orig_nbformat": 4
 },
 "nbformat": 4,
 "nbformat_minor": 2
}
