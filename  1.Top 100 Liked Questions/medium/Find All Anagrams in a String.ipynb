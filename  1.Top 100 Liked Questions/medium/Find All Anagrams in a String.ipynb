{
 "cells": [
  {
   "cell_type": "markdown",
   "metadata": {},
   "source": [
    "Given two strings s and p, return an array of all the start indices of p's anagrams in s. You may return the answer in any order.\n",
    "\n",
    "An Anagram is a word or phrase formed by rearranging the letters of a different word or phrase, typically using all the original letters exactly once.\n",
    "\n",
    " \n",
    "\n",
    "Example 1:\n",
    "\n",
    "```\n",
    "Input: s = \"cbaebabacd\", p = \"abc\"\n",
    "Output: [0,6]\n",
    "Explanation:\n",
    "The substring with start index = 0 is \"cba\", which is an anagram of \"abc\".\n",
    "The substring with start index = 6 is \"bac\", which is an anagram of \"abc\".\n",
    "```\n",
    "\n",
    "Example 2:\n",
    "\n",
    "```\n",
    "Input: s = \"abab\", p = \"ab\"\n",
    "Output: [0,1,2]\n",
    "Explanation:\n",
    "The substring with start index = 0 is \"ab\", which is an anagram of \"ab\".\n",
    "The substring with start index = 1 is \"ba\", which is an anagram of \"ab\".\n",
    "The substring with start index = 2 is \"ab\", which is an anagram of \"ab\".\n",
    "``` \n",
    "\n",
    "Constraints:\n",
    "\n",
    "1 <= s.length, p.length <= 3 * $10^4$\n",
    "\n",
    "s and p consist of lowercase English letters."
   ]
  },
  {
   "cell_type": "code",
   "execution_count": null,
   "metadata": {},
   "outputs": [],
   "source": [
    "class Solution:\n",
    "    def findAnagrams(self, s: str, p: str) -> List[int]:\n",
    "        cnt = len(p)\n",
    "        rec = {}\n",
    "        for c in p:\n",
    "            rec[c] = rec.get(c, 0) + 1\n",
    "            \n",
    "        res = []\n",
    "        i, j = 0, 0\n",
    "        while j < len(s):\n",
    "            if s[j] in rec:\n",
    "                rec[s[j]] -= 1\n",
    "                if rec[s[j]] >= 0:\n",
    "                    cnt -= 1\n",
    "                \n",
    "            if cnt == 0:\n",
    "                res.append(i)\n",
    "                \n",
    "            if j == i + len(p) -1:\n",
    "                if s[i] in rec:\n",
    "                    if rec[s[i]] >= 0:\n",
    "                        cnt += 1\n",
    "                    rec[s[i]] += 1\n",
    "                i += 1\n",
    "                \n",
    "            j += 1\n",
    "            \n",
    "        return res\n",
    "                "
   ]
  }
 ],
 "metadata": {
  "language_info": {
   "name": "python"
  },
  "orig_nbformat": 4
 },
 "nbformat": 4,
 "nbformat_minor": 2
}
