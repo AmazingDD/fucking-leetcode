{
 "cells": [
  {
   "cell_type": "markdown",
   "metadata": {},
   "source": [
    "Given an array nums of distinct integers, return all the possible permutations. You can return the answer in any order.\n",
    "\n",
    " \n",
    "\n",
    "Example 1:\n",
    "\n",
    "```\n",
    "Input: nums = [1,2,3]\n",
    "Output: [[1,2,3],[1,3,2],[2,1,3],[2,3,1],[3,1,2],[3,2,1]]\n",
    "```\n",
    "\n",
    "Example 2:\n",
    "\n",
    "```\n",
    "Input: nums = [0,1]\n",
    "Output: [[0,1],[1,0]]\n",
    "```\n",
    "Example 3:\n",
    "\n",
    "```\n",
    "Input: nums = [1]\n",
    "Output: [[1]]\n",
    "``` \n",
    "\n",
    "Constraints:\n",
    "\n",
    "1 <= nums.length <= 6\n",
    "\n",
    "-10 <= nums[i] <= 10\n",
    "\n",
    "All the integers of nums are unique."
   ]
  },
  {
   "cell_type": "code",
   "execution_count": null,
   "metadata": {},
   "outputs": [],
   "source": [
    "class Solution(object):\n",
    "    def permute(self, nums):\n",
    "        \"\"\"\n",
    "        :type nums: List[int]\n",
    "        :rtype: List[List[int]]\n",
    "        \"\"\"\n",
    "        res = []\n",
    "        def dfs(nums, path):\n",
    "            if not nums: res.append(path) \n",
    "            for i in range(len(nums)):\n",
    "                dfs(nums[:i] + nums[i+1:], path + [nums[i]])\n",
    "                \n",
    "        dfs(nums, [])\n",
    "                \n",
    "        return res"
   ]
  },
  {
   "cell_type": "markdown",
   "metadata": {},
   "source": [
    "DFS"
   ]
  },
  {
   "cell_type": "markdown",
   "metadata": {},
   "source": []
  }
 ],
 "metadata": {
  "language_info": {
   "name": "python"
  },
  "orig_nbformat": 4
 },
 "nbformat": 4,
 "nbformat_minor": 2
}
