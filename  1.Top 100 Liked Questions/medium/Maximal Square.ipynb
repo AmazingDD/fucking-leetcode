{
 "cells": [
  {
   "cell_type": "markdown",
   "metadata": {},
   "source": [
    "Given an m x n binary matrix filled with 0's and 1's, find the largest square containing only 1's and return its area.\n",
    "\n",
    "Example 1:\n",
    "\n",
    "```\n",
    "Input: matrix = [[\"1\",\"0\",\"1\",\"0\",\"0\"],[\"1\",\"0\",\"1\",\"1\",\"1\"],[\"1\",\"1\",\"1\",\"1\",\"1\"],[\"1\",\"0\",\"0\",\"1\",\"0\"]]\n",
    "Output: 4\n",
    "```\n",
    "\n",
    "Example 2:\n",
    "\n",
    "```\n",
    "Input: matrix = [[\"0\",\"1\"],[\"1\",\"0\"]]\n",
    "Output: 1\n",
    "```\n",
    "\n",
    "Example 3:\n",
    "\n",
    "```\n",
    "Input: matrix = [[\"0\"]]\n",
    "Output: 0\n",
    "```\n",
    "\n",
    "Constraints:\n",
    "\n",
    "m == matrix.length\n",
    "\n",
    "n == matrix[i].length\n",
    "\n",
    "1 <= m, n <= 300\n",
    "\n",
    "matrix[i][j] is '0' or '1'."
   ]
  },
  {
   "cell_type": "code",
   "execution_count": null,
   "metadata": {},
   "outputs": [],
   "source": [
    "class Solution:\n",
    "    def maximalSquare(self, matrix: List[List[str]]) -> int:\n",
    "        if not matrix: return 0\n",
    "        m, n = len(matrix), len(matrix[0])\n",
    "        dp = [[0 if matrix[i][j] == '0' else 1 for j in range(n)] for i in range(m)]\n",
    "        # no 1 exist, means no square\n",
    "        if sum([sum(row) for row in dp]) == 0: \n",
    "            return 0\n",
    "        # at least 1m so max_edge can initialize as 1\n",
    "        max_edge = 1\n",
    "        for i in range(1, m):\n",
    "            for j in range(1, n):\n",
    "                if matrix[i][j] == '1':\n",
    "                    # find the min-length edge that can be enlarge\n",
    "                    # if you want to enlarge, the left, up, left-up must all 1\n",
    "                    # if any is not 1,it means you cannot enlarge, so for square start from dp[i][j]\n",
    "                    # will maitain previous status\n",
    "                    dp[i][j] = min(dp[i-1][j], dp[i][j - 1], dp[i-1][j-1]) + 1\n",
    "                    max_edge = max(dp[i][j], max_edge)\n",
    "        \n",
    "        return max_edge ** 2"
   ]
  }
 ],
 "metadata": {
  "language_info": {
   "name": "python"
  },
  "orig_nbformat": 4
 },
 "nbformat": 4,
 "nbformat_minor": 2
}
