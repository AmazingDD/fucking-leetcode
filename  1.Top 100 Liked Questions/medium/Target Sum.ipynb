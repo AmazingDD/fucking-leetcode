{
 "cells": [
  {
   "cell_type": "markdown",
   "metadata": {},
   "source": [
    "You are given an integer array nums and an integer target.\n",
    "\n",
    "You want to build an expression out of nums by adding one of the symbols '+' and '-' before each integer in nums and then concatenate all the integers.\n",
    "\n",
    " - For example, if nums = [2, 1], you can add a '+' before 2 and a '-' before 1 and concatenate them to build the expression \"+2-1\".\n",
    "Return the number of different expressions that you can build, which evaluates to target.\n",
    "\n",
    " \n",
    "\n",
    "Example 1:\n",
    "\n",
    "```\n",
    "Input: nums = [1,1,1,1,1], target = 3\n",
    "Output: 5\n",
    "Explanation: There are 5 ways to assign symbols to make the sum of nums be target 3.\n",
    "-1 + 1 + 1 + 1 + 1 = 3\n",
    "+1 - 1 + 1 + 1 + 1 = 3\n",
    "+1 + 1 - 1 + 1 + 1 = 3\n",
    "+1 + 1 + 1 - 1 + 1 = 3\n",
    "+1 + 1 + 1 + 1 - 1 = 3\n",
    "```\n",
    "\n",
    "Example 2:\n",
    "\n",
    "```\n",
    "Input: nums = [1], target = 1\n",
    "Output: 1\n",
    "```\n",
    "\n",
    "Constraints:\n",
    "\n",
    "1 <= nums.length <= 20\n",
    "\n",
    "0 <= nums[i] <= 1000\n",
    "\n",
    "0 <= sum(nums[i]) <= 1000\n",
    "\n",
    "-1000 <= target <= 1000"
   ]
  },
  {
   "cell_type": "code",
   "execution_count": null,
   "metadata": {},
   "outputs": [],
   "source": [
    "class Solution:\n",
    "    def findTargetSumWays(self, nums: List[int], target: int) -> int:\n",
    "        index = len(nums) - 1\n",
    "        cur_sum = 0\n",
    "        self.memo = {}\n",
    "        \n",
    "        return self.dp(nums, target, index, cur_sum)\n",
    "    \n",
    "    def dp(self, nums, target, index, cur_sum):\n",
    "        if (index, cur_sum) in self.memo:\n",
    "            return self.memo[(index, cur_sum)]\n",
    "        \n",
    "        if index < 0 and cur_sum == target:\n",
    "            return 1\n",
    "        if index < 0:\n",
    "            return 0\n",
    "        \n",
    "        positive = self.dp(nums, target, index - 1, cur_sum + nums[index])\n",
    "        negative = self.dp(nums, target, index - 1, cur_sum - nums[index])\n",
    "        \n",
    "        self.memo[(index, cur_sum)] = positive + negative\n",
    "        \n",
    "        return self.memo[(index, cur_sum)]"
   ]
  }
 ],
 "metadata": {
  "language_info": {
   "name": "python"
  },
  "orig_nbformat": 4
 },
 "nbformat": 4,
 "nbformat_minor": 2
}
