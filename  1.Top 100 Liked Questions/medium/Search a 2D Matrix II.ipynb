{
 "cells": [
  {
   "cell_type": "markdown",
   "metadata": {},
   "source": [
    "Write an efficient algorithm that searches for a target value in an m x n integer matrix. The matrix has the following properties:\n",
    "\n",
    "Integers in each row are sorted in ascending from left to right.\n",
    "\n",
    "Integers in each column are sorted in ascending from top to bottom.\n",
    " \n",
    "\n",
    "Example 1:\n",
    "\n",
    "```\n",
    "Input: matrix = [[1,4,7,11,15],[2,5,8,12,19],[3,6,9,16,22],[10,13,14,17,24],[18,21,23,26,30]], target = 5\n",
    "Output: true\n",
    "```\n",
    "\n",
    "Example 2:\n",
    "\n",
    "```\n",
    "Input: matrix = [[1,4,7,11,15],[2,5,8,12,19],[3,6,9,16,22],[10,13,14,17,24],[18,21,23,26,30]], target = 20\n",
    "Output: false\n",
    "```\n",
    "\n",
    "Constraints:\n",
    "\n",
    "m == matrix.length\n",
    "\n",
    "n == matrix[i].length\n",
    "\n",
    "1 <= n, m <= 300\n",
    "\n",
    "-$10^9$ <= matrix[i][j] <= $10^9$\n",
    "\n",
    "All the integers in each row are sorted in ascending order.\n",
    "\n",
    "All the integers in each column are sorted in ascending order.\n",
    "\n",
    "-$10^9$ <= target <= $10^9$"
   ]
  },
  {
   "cell_type": "code",
   "execution_count": null,
   "metadata": {},
   "outputs": [],
   "source": [
    "class Solution:\n",
    "    def searchMatrix(self, matrix: List[List[int]], target: int) -> bool:\n",
    "        if not matrix or not matrix[0]:\n",
    "            return False\n",
    "        \n",
    "        row, col = 0, len(matrix[0]) - 1\n",
    "        # start from up right, if target smaller, go left, if target larger, go down, else find the target\n",
    "        while col >= 0 and row <= len(matrix) - 1:\n",
    "            if target < matrix[row][col]:\n",
    "                col -= 1\n",
    "            elif target > matrix[row][col]:\n",
    "                row += 1\n",
    "            else:\n",
    "                return True\n",
    "        \n",
    "        return False"
   ]
  }
 ],
 "metadata": {
  "language_info": {
   "name": "python"
  },
  "orig_nbformat": 4
 },
 "nbformat": 4,
 "nbformat_minor": 2
}
