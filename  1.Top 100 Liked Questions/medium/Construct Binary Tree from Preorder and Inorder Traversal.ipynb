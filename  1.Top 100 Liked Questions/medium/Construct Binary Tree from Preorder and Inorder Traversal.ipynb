{
 "cells": [
  {
   "cell_type": "markdown",
   "metadata": {},
   "source": [
    "Given two integer arrays preorder and inorder where preorder is the preorder traversal of a binary tree and inorder is the inorder traversal of the same tree, construct and return the binary tree.\n",
    "\n",
    " \n",
    "\n",
    "Example 1:\n",
    "\n",
    "```\n",
    "Input: preorder = [3,9,20,15,7], inorder = [9,3,15,20,7]\n",
    "Output: [3,9,20,null,null,15,7]\n",
    "```\n",
    "\n",
    "Example 2:\n",
    "\n",
    "```\n",
    "Input: preorder = [-1], inorder = [-1]\n",
    "Output: [-1]\n",
    "```\n",
    "\n",
    "Constraints:\n",
    "\n",
    "1 <= preorder.length <= 3000\n",
    "\n",
    "inorder.length == preorder.length\n",
    "\n",
    "-3000 <= preorder[i], inorder[i] <= 3000\n",
    "\n",
    "preorder and inorder consist of unique values.\n",
    "\n",
    "Each value of inorder also appears in preorder.\n",
    "\n",
    "preorder is guaranteed to be the preorder traversal of the tree.\n",
    "\n",
    "inorder is guaranteed to be the inorder traversal of the tree."
   ]
  },
  {
   "cell_type": "code",
   "execution_count": null,
   "metadata": {},
   "outputs": [],
   "source": [
    "# Definition for a binary tree node.\n",
    "# class TreeNode:\n",
    "#     def __init__(self, val=0, left=None, right=None):\n",
    "#         self.val = val\n",
    "#         self.left = left\n",
    "#         self.right = right\n",
    "class Solution:\n",
    "    def buildTree(self, preorder: List[int], inorder: List[int]) -> Optional[TreeNode]:\n",
    "        if inorder:\n",
    "            root_index = inorder.index(preorder.pop(0))\n",
    "            root = TreeNode(inorder[root_index])\n",
    "            root.left = self.buildTree(preorder, inorder[0:root_index])\n",
    "            root.right = self.buildTree(preorder, inorder[root_index + 1:])\n",
    "\n",
    "            return root\n",
    "        else:\n",
    "            return None"
   ]
  }
 ],
 "metadata": {
  "language_info": {
   "name": "python"
  },
  "orig_nbformat": 4
 },
 "nbformat": 4,
 "nbformat_minor": 2
}
