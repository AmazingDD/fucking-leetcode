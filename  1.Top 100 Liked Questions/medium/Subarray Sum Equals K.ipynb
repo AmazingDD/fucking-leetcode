{
 "cells": [
  {
   "cell_type": "markdown",
   "metadata": {},
   "source": [
    "Given an array of integers nums and an integer k, return the total number of continuous subarrays whose sum equals to k.\n",
    "\n",
    "Example 1:\n",
    "\n",
    "```\n",
    "Input: nums = [1,1,1], k = 2\n",
    "Output: 2\n",
    "```\n",
    "\n",
    "Example 2:\n",
    "\n",
    "```\n",
    "Input: nums = [1,2,3], k = 3\n",
    "Output: 2\n",
    "```\n",
    "\n",
    "Constraints:\n",
    "\n",
    "1 <= nums.length <= 2 * $10^4$\n",
    "\n",
    "-1000 <= nums[i] <= 1000\n",
    "\n",
    "-$10^7$ <= k <= $10^7$"
   ]
  },
  {
   "cell_type": "code",
   "execution_count": null,
   "metadata": {},
   "outputs": [],
   "source": [
    "class Solution:\n",
    "    def subarraySum(self, nums: List[int], k: int) -> int:\n",
    "        res = 0\n",
    "        cumsum = 0\n",
    "        d = dict()\n",
    "        d[0] = 1\n",
    "        \n",
    "        for i in nums:\n",
    "            cumsum += i\n",
    "            res += d.get(cumsum-k, 0)\n",
    "            d[cumsum] = d.get(cumsum, 0) + 1\n",
    "            \n",
    "        return res"
   ]
  }
 ],
 "metadata": {
  "language_info": {
   "name": "python"
  },
  "orig_nbformat": 4
 },
 "nbformat": 4,
 "nbformat_minor": 2
}
